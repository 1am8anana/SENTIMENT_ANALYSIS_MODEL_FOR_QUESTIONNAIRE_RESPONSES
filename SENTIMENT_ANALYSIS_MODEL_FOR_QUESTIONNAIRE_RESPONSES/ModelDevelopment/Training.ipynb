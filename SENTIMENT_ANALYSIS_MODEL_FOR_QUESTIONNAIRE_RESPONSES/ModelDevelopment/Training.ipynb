{
 "cells": [
  {
   "cell_type": "markdown",
   "metadata": {},
   "source": [
    "# Training"
   ]
  },
  {
   "cell_type": "code",
   "execution_count": 1,
   "metadata": {},
   "outputs": [],
   "source": [
    "# some how we need to use this import block code, because of some reason that will not allow us to import other module in this file.\n",
    "import sys\n",
    "import os\n",
    "sys.path.append(os.path.abspath(os.path.join(os.path.dirname('__file__'), '..')))"
   ]
  },
  {
   "cell_type": "markdown",
   "metadata": {},
   "source": [
    "##### Import Library"
   ]
  },
  {
   "cell_type": "code",
   "execution_count": 2,
   "metadata": {},
   "outputs": [],
   "source": [
    "import pandas as pd\n",
    "import numpy as np\n",
    "from ModelDevelopment.CustomPipeline import CustomPipeline"
   ]
  },
  {
   "cell_type": "markdown",
   "metadata": {},
   "source": [
    "Import the Classifiers"
   ]
  },
  {
   "cell_type": "code",
   "execution_count": 3,
   "metadata": {},
   "outputs": [],
   "source": [
    "from sklearn.linear_model import LogisticRegression\n",
    "from sklearn.naive_bayes import MultinomialNB\n",
    "from sklearn.ensemble import RandomForestClassifier\n",
    "from xgboost import XGBClassifier\n",
    "from sklearn.neural_network import MLPClassifier"
   ]
  },
  {
   "cell_type": "markdown",
   "metadata": {},
   "source": [
    "Import Metrics that we need to use"
   ]
  },
  {
   "cell_type": "code",
   "execution_count": 4,
   "metadata": {},
   "outputs": [],
   "source": [
    "from sklearn.model_selection import KFold\n",
    "from sklearn.metrics import accuracy_score, precision_score, recall_score, f1_score"
   ]
  },
  {
   "cell_type": "markdown",
   "metadata": {},
   "source": [
    "##### Load the dataset"
   ]
  },
  {
   "cell_type": "code",
   "execution_count": 5,
   "metadata": {},
   "outputs": [],
   "source": [
    "df = pd.read_csv('../Dataset/datasets.csv')\n",
    "# Split the sentence and label into single variable.\n",
    "X = df['sentence']\n",
    "y = df['label']"
   ]
  },
  {
   "cell_type": "markdown",
   "metadata": {},
   "source": [
    "we need to define some config of each classifier (Form the experiment)"
   ]
  },
  {
   "cell_type": "markdown",
   "metadata": {},
   "source": [
    "These configs will contain:\n",
    "* classifier\n",
    "* and hyperparameters"
   ]
  },
  {
   "cell_type": "code",
   "execution_count": 6,
   "metadata": {},
   "outputs": [],
   "source": [
    "configs = [\n",
    "    {'classifier': LogisticRegression(random_state=100), 'hyperparameters': {'classifier__C': 0.1}},\n",
    "    {'classifier': LogisticRegression(random_state=100), 'hyperparameters': {'classifier__C': 1}},\n",
    "    {'classifier': LogisticRegression(random_state=100), 'hyperparameters': {'classifier__C': 1.6}},\n",
    "    \n",
    "    {'classifier': MultinomialNB(), 'hyperparameters': {'classifier__alpha': 0.1}},\n",
    "    {'classifier': MultinomialNB(), 'hyperparameters': {'classifier__alpha': 0.5}},\n",
    "    {'classifier': MultinomialNB(), 'hyperparameters': {'classifier__alpha': 0.9}},\n",
    "    \n",
    "    {'classifier': RandomForestClassifier(random_state=100), 'hyperparameters': {'classifier__n_estimators': 100}},\n",
    "    {'classifier': RandomForestClassifier(random_state=100), 'hyperparameters': {'classifier__n_estimators': 200}},\n",
    "    {'classifier': RandomForestClassifier(random_state=100), 'hyperparameters': {'classifier__n_estimators': 250}},\n",
    "    \n",
    "    {'classifier': XGBClassifier(), 'hyperparameters': {'classifier__n_estimators': 100}},\n",
    "    {'classifier': XGBClassifier(), 'hyperparameters': {'classifier__n_estimators': 200}},\n",
    "    {'classifier': XGBClassifier(), 'hyperparameters': {'classifier__n_estimators': 250}},\n",
    "    \n",
    "    {'classifier': MLPClassifier(max_iter=1000, random_state=100), 'hyperparameters': {'classifier__hidden_layer_sizes': (100,)}},\n",
    "    {'classifier': MLPClassifier(max_iter=1000, random_state=100), 'hyperparameters': {'classifier__hidden_layer_sizes': (10, 10)}},\n",
    "    {'classifier': MLPClassifier(max_iter=1000, random_state=100), 'hyperparameters': {'classifier__hidden_layer_sizes': (20, 20)}},\n",
    "]"
   ]
  },
  {
   "cell_type": "code",
   "execution_count": 7,
   "metadata": {},
   "outputs": [],
   "source": [
    "# Instantiate the 5-fold the do the cross valiation.\n",
    "kfold = KFold(n_splits=5, shuffle=True, random_state=42)\n",
    "all_hist = []\n",
    "fold_hist = []\n",
    "best_score = -np.inf\n",
    "best_classifier_type = {}\n",
    "best_classifier_hist = None\n",
    "\n",
    "for config in configs:\n",
    "    classifier = config['classifier']\n",
    "    classifier_type = type(classifier).__name__\n",
    "    hyperparameters = config['hyperparameters']\n",
    "    \n",
    "    fold_metrics = {\n",
    "        'accuracy': [],\n",
    "        'precision': [],\n",
    "        'recall': [],\n",
    "        'f1': [],\n",
    "        'precision(-)': [],\n",
    "        'recall(-)': [],\n",
    "        'f1(-)': []\n",
    "    }\n",
    "    \n",
    "    for fold, (train_idx, val_idx) in enumerate(kfold.split(X)):\n",
    "        X_train, X_val = X[train_idx], X[val_idx]\n",
    "        y_train, y_val = y[train_idx], y[val_idx]\n",
    "        \n",
    "        # Instantiate CustomPipeline with just the classifier\n",
    "        pipeline = CustomPipeline(classifier)\n",
    "        \n",
    "        # Set hyperparameters\n",
    "        pipeline.set_params(**hyperparameters)\n",
    "        \n",
    "        # Fit the pipeline\n",
    "        pipeline.fit(X_train, y_train)\n",
    "        \n",
    "        # Make predictions\n",
    "        y_pred = pipeline.predict(X_val)\n",
    "        \n",
    "        fold_result = {\n",
    "            'fold': fold+1,\n",
    "            'config': config,\n",
    "            'accuracy': accuracy_score(y_val, y_pred),\n",
    "            'precision': precision_score(y_val, y_pred),\n",
    "            'recall': recall_score(y_val, y_pred),\n",
    "            'f1': f1_score(y_val, y_pred),\n",
    "            'precision(-)': precision_score(y_val, y_pred, pos_label=1, zero_division=1),\n",
    "            'recall(-)': recall_score(y_val, y_pred, pos_label=1, zero_division=1),\n",
    "            'f1(-)': f1_score(y_val, y_pred, pos_label=1, zero_division=1)\n",
    "        }\n",
    "        \n",
    "        fold_hist.append(fold_result)\n",
    "        \n",
    "        fold_metrics['accuracy'].append(fold_result['accuracy'])\n",
    "        fold_metrics['precision'].append(fold_result['precision'])\n",
    "        fold_metrics['recall'].append(fold_result['recall'])\n",
    "        fold_metrics['f1'].append(fold_result['f1'])\n",
    "        fold_metrics['precision(-)'].append(fold_result['precision(-)'])\n",
    "        fold_metrics['recall(-)'].append(fold_result['recall(-)'])\n",
    "        fold_metrics['f1(-)'].append(fold_result['f1(-)'])\n",
    "        \n",
    "    avg_metrics = {metric: np.mean(scores) for metric, scores in fold_metrics.items()}\n",
    "    avg_metrics['config'] = config\n",
    "    all_hist.append(avg_metrics)\n",
    "    \n",
    "    if avg_metrics['accuracy'] > best_score:\n",
    "        best_score = avg_metrics['accuracy']\n",
    "        best_classifier_hist = avg_metrics\n",
    "    if classifier_type not in best_classifier_type or avg_metrics['accuracy'] > best_classifier_type[classifier_type]['accuracy']:\n",
    "        best_classifier_type[classifier_type] = avg_metrics\n"
   ]
  },
  {
   "cell_type": "code",
   "execution_count": 8,
   "metadata": {},
   "outputs": [],
   "source": [
    "import matplotlib.pyplot as plt"
   ]
  },
  {
   "cell_type": "code",
   "execution_count": 9,
   "metadata": {},
   "outputs": [
    {
     "data": {
      "image/png": "[encoded data removed]",
      "text/plain": [
       "<Figure size 1400x800 with 1 Axes>"
      ]
     },
     "metadata": {},
     "output_type": "display_data"
    }
   ],
   "source": [
    "n_folds = max([fold['fold'] for fold in fold_hist])\n",
    "model_types = list(best_classifier_type.keys())\n",
    "n_model_types = len(model_types)\n",
    "    \n",
    "# Mapping model names\n",
    "model_name_mapping = {\n",
    "    'LogisticRegression': 'Logistic Regression',\n",
    "    'MultinomialNB': 'Naive Bayes',\n",
    "    'RandomForestClassifier': 'Random Forest',\n",
    "    'XGBClassifier': 'XGBoost',\n",
    "    'MLPClassifier': 'Neural Networks'\n",
    "}\n",
    "    \n",
    "# Prepare data\n",
    "accuracies_per_fold = {model_type: [] for model_type in model_types}\n",
    "for model_type, best_model in best_classifier_type.items():\n",
    "    accuracies = [fold['accuracy'] for fold in fold_hist if fold['config'] == best_model['config']]\n",
    "    accuracies_per_fold[model_type] = accuracies\n",
    "    \n",
    "bar_width = 0.15\n",
    "index = np.arange(n_folds) * (n_model_types + 1) * bar_width  # Add spacing between folds\n",
    "colors = ['#FF7D29', '#FFC94A', '#C08B5C', '#795458', '#453F78']\n",
    "    \n",
    "plt.figure(figsize=(14, 8))\n",
    "    \n",
    "for i, (model_type, color) in enumerate(zip(model_types, colors)):\n",
    "    accuracies = accuracies_per_fold[model_type]\n",
    "    display_name = model_name_mapping.get(model_type, model_type)  # Use mapping or default to model_type\n",
    "    plt.bar(index + i * bar_width, accuracies, bar_width, label=display_name, color=color)\n",
    "    \n",
    "plt.xlabel('Fold', fontsize=14)\n",
    "plt.ylabel('Accuracy', fontsize=14)\n",
    "plt.title('Accuracy per Fold for Best Model of Each Type')\n",
    "plt.xticks(index + bar_width * (n_model_types / 2), ['Fold ' + str(i + 1) for i in range(n_folds)], fontsize=12)  # Increase font size\n",
    "plt.ylim(0.5, 1)  # Set the y-axis limit to start at 0.5\n",
    "plt.legend()\n",
    "plt.grid(True, axis='y')\n",
    "plt.show()"
   ]
  },
  {
   "cell_type": "code",
   "execution_count": 10,
   "metadata": {},
   "outputs": [
    {
     "data": {
      "text/plain": [
       "{'accuracy': 0.8361040068201193,\n",
       " 'precision': 0.8391408185807684,\n",
       " 'recall': 0.8892397660818713,\n",
       " 'f1': 0.8602764712540413,\n",
       " 'precision(-)': 0.8391408185807684,\n",
       " 'recall(-)': 0.8892397660818713,\n",
       " 'f1(-)': 0.8602764712540413,\n",
       " 'config': {'classifier': MultinomialNB(alpha=0.5),\n",
       "  'hyperparameters': {'classifier__alpha': 0.5}}}"
      ]
     },
     "execution_count": 10,
     "metadata": {},
     "output_type": "execute_result"
    }
   ],
   "source": [
    "best_classifier_hist"
   ]
  },
  {
   "cell_type": "markdown",
   "metadata": {},
   "source": [
    "From the results we get the Naive Bayes classifier for the best of training,\n",
    "\n",
    "Now we need to make it into the Pickle file for easy to move over other file and easy to use in Evaluate file."
   ]
  },
  {
   "cell_type": "code",
   "execution_count": 11,
   "metadata": {},
   "outputs": [
    {
     "data": {
      "text/plain": [
       "{'classifier__alpha': 0.5}"
      ]
     },
     "execution_count": 11,
     "metadata": {},
     "output_type": "execute_result"
    }
   ],
   "source": [
    "# Get the best hyperparameters for the Naive Bayes.\n",
    "nb_parameters = best_classifier_hist['config']['hyperparameters']\n",
    "nb_parameters"
   ]
  },
  {
   "cell_type": "code",
   "execution_count": 12,
   "metadata": {},
   "outputs": [],
   "source": [
    "import pickle"
   ]
  },
  {
   "cell_type": "code",
   "execution_count": 13,
   "metadata": {},
   "outputs": [
    {
     "data": {
      "text/html": [
       "<style>#sk-container-id-1 {color: black;}#sk-container-id-1 pre{padding: 0;}#sk-container-id-1 div.sk-toggleable {background-color: white;}#sk-container-id-1 label.sk-toggleable__label {cursor: pointer;display: block;width: 100%;margin-bottom: 0;padding: 0.3em;box-sizing: border-box;text-align: center;}#sk-container-id-1 label.sk-toggleable__label-arrow:before {content: \"▸\";float: left;margin-right: 0.25em;color: #696969;}#sk-container-id-1 label.sk-toggleable__label-arrow:hover:before {color: black;}#sk-container-id-1 div.sk-estimator:hover label.sk-toggleable__label-arrow:before {color: black;}#sk-container-id-1 div.sk-toggleable__content {max-height: 0;max-width: 0;overflow: hidden;text-align: left;background-color: #f0f8ff;}#sk-container-id-1 div.sk-toggleable__content pre {margin: 0.2em;color: black;border-radius: 0.25em;background-color: #f0f8ff;}#sk-container-id-1 input.sk-toggleable__control:checked~div.sk-toggleable__content {max-height: 200px;max-width: 100%;overflow: auto;}#sk-container-id-1 input.sk-toggleable__control:checked~label.sk-toggleable__label-arrow:before {content: \"▾\";}#sk-container-id-1 div.sk-estimator input.sk-toggleable__control:checked~label.sk-toggleable__label {background-color: #d4ebff;}#sk-container-id-1 div.sk-label input.sk-toggleable__control:checked~label.sk-toggleable__label {background-color: #d4ebff;}#sk-container-id-1 input.sk-hidden--visually {border: 0;clip: rect(1px 1px 1px 1px);clip: rect(1px, 1px, 1px, 1px);height: 1px;margin: -1px;overflow: hidden;padding: 0;position: absolute;width: 1px;}#sk-container-id-1 div.sk-estimator {font-family: monospace;background-color: #f0f8ff;border: 1px dotted black;border-radius: 0.25em;box-sizing: border-box;margin-bottom: 0.5em;}#sk-container-id-1 div.sk-estimator:hover {background-color: #d4ebff;}#sk-container-id-1 div.sk-parallel-item::after {content: \"\";width: 100%;border-bottom: 1px solid gray;flex-grow: 1;}#sk-container-id-1 div.sk-label:hover label.sk-toggleable__label {background-color: #d4ebff;}#sk-container-id-1 div.sk-serial::before {content: \"\";position: absolute;border-left: 1px solid gray;box-sizing: border-box;top: 0;bottom: 0;left: 50%;z-index: 0;}#sk-container-id-1 div.sk-serial {display: flex;flex-direction: column;align-items: center;background-color: white;padding-right: 0.2em;padding-left: 0.2em;position: relative;}#sk-container-id-1 div.sk-item {position: relative;z-index: 1;}#sk-container-id-1 div.sk-parallel {display: flex;align-items: stretch;justify-content: center;background-color: white;position: relative;}#sk-container-id-1 div.sk-item::before, #sk-container-id-1 div.sk-parallel-item::before {content: \"\";position: absolute;border-left: 1px solid gray;box-sizing: border-box;top: 0;bottom: 0;left: 50%;z-index: -1;}#sk-container-id-1 div.sk-parallel-item {display: flex;flex-direction: column;z-index: 1;position: relative;background-color: white;}#sk-container-id-1 div.sk-parallel-item:first-child::after {align-self: flex-end;width: 50%;}#sk-container-id-1 div.sk-parallel-item:last-child::after {align-self: flex-start;width: 50%;}#sk-container-id-1 div.sk-parallel-item:only-child::after {width: 0;}#sk-container-id-1 div.sk-dashed-wrapped {border: 1px dashed gray;margin: 0 0.4em 0.5em 0.4em;box-sizing: border-box;padding-bottom: 0.4em;background-color: white;}#sk-container-id-1 div.sk-label label {font-family: monospace;font-weight: bold;display: inline-block;line-height: 1.2em;}#sk-container-id-1 div.sk-label-container {text-align: center;}#sk-container-id-1 div.sk-container {/* jupyter's `normalize.less` sets `[hidden] { display: none; }` but bootstrap.min.css set `[hidden] { display: none !important; }` so we also need the `!important` here to be able to override the default hidden behavior on the sphinx rendered scikit-learn.org. See: https://github.com/scikit-learn/scikit-learn/issues/21755 */display: inline-block !important;position: relative;}#sk-container-id-1 div.sk-text-repr-fallback {display: none;}</style><div id=\"sk-container-id-1\" class=\"sk-top-container\"><div class=\"sk-text-repr-fallback\"><pre>Pipeline(steps=[(&#x27;tokenizer&#x27;, Tokenizer()), (&#x27;vectorizer&#x27;, Vectorizer()),\n",
       "                (&#x27;classifier&#x27;, MultinomialNB(alpha=0.5))])</pre><b>In a Jupyter environment, please rerun this cell to show the HTML representation or trust the notebook. <br />On GitHub, the HTML representation is unable to render, please try loading this page with nbviewer.org.</b></div><div class=\"sk-container\" hidden><div class=\"sk-item sk-dashed-wrapped\"><div class=\"sk-label-container\"><div class=\"sk-label sk-toggleable\"><input class=\"sk-toggleable__control sk-hidden--visually\" id=\"sk-estimator-id-1\" type=\"checkbox\" ><label for=\"sk-estimator-id-1\" class=\"sk-toggleable__label sk-toggleable__label-arrow\">Pipeline</label><div class=\"sk-toggleable__content\"><pre>Pipeline(steps=[(&#x27;tokenizer&#x27;, Tokenizer()), (&#x27;vectorizer&#x27;, Vectorizer()),\n",
       "                (&#x27;classifier&#x27;, MultinomialNB(alpha=0.5))])</pre></div></div></div><div class=\"sk-serial\"><div class=\"sk-item\"><div class=\"sk-estimator sk-toggleable\"><input class=\"sk-toggleable__control sk-hidden--visually\" id=\"sk-estimator-id-2\" type=\"checkbox\" ><label for=\"sk-estimator-id-2\" class=\"sk-toggleable__label sk-toggleable__label-arrow\">Tokenizer</label><div class=\"sk-toggleable__content\"><pre>Tokenizer()</pre></div></div></div><div class=\"sk-item\"><div class=\"sk-estimator sk-toggleable\"><input class=\"sk-toggleable__control sk-hidden--visually\" id=\"sk-estimator-id-3\" type=\"checkbox\" ><label for=\"sk-estimator-id-3\" class=\"sk-toggleable__label sk-toggleable__label-arrow\">Vectorizer</label><div class=\"sk-toggleable__content\"><pre>Vectorizer()</pre></div></div></div><div class=\"sk-item\"><div class=\"sk-estimator sk-toggleable\"><input class=\"sk-toggleable__control sk-hidden--visually\" id=\"sk-estimator-id-4\" type=\"checkbox\" ><label for=\"sk-estimator-id-4\" class=\"sk-toggleable__label sk-toggleable__label-arrow\">MultinomialNB</label><div class=\"sk-toggleable__content\"><pre>MultinomialNB(alpha=0.5)</pre></div></div></div></div></div></div></div>"
      ],
      "text/plain": [
       "Pipeline(steps=[('tokenizer', Tokenizer()), ('vectorizer', Vectorizer()),\n",
       "                ('classifier', MultinomialNB(alpha=0.5))])"
      ]
     },
     "execution_count": 13,
     "metadata": {},
     "output_type": "execute_result"
    }
   ],
   "source": [
    "naive_bayes_classifier = CustomPipeline(MultinomialNB())\n",
    "naive_bayes_classifier.set_params(**nb_parameters)\n",
    "naive_bayes_classifier.fit(X, y)"
   ]
  },
  {
   "cell_type": "code",
   "execution_count": 14,
   "metadata": {},
   "outputs": [],
   "source": [
    "with open('Naive Bayes_pipeline.pickle', 'wb') as f:\n",
    "    pickle.dump(naive_bayes_classifier, f)"
   ]
  }
 ],
 "metadata": {
  "kernelspec": {
   "display_name": "Python 3",
   "language": "python",
   "name": "python3"
  },
  "language_info": {
   "codemirror_mode": {
    "name": "ipython",
    "version": 3
   },
   "file_extension": ".py",
   "mimetype": "text/x-python",
   "name": "python",
   "nbconvert_exporter": "python",
   "pygments_lexer": "ipython3",
   "version": "3.11.5"
  }
 },
 "nbformat": 4,
 "nbformat_minor": 2
}
